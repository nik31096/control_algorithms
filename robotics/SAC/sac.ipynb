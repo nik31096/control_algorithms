{
 "cells": [
  {
   "cell_type": "code",
   "execution_count": 1,
   "metadata": {},
   "outputs": [],
   "source": [
    "import torch\n",
    "import torch.nn as nn\n",
    "import torch.nn.functional as F\n",
    "\n",
    "import gym\n",
    "import numpy as np"
   ]
  },
  {
   "cell_type": "code",
   "execution_count": 8,
   "metadata": {},
   "outputs": [],
   "source": [
    "from collections import namedtuple"
   ]
  },
  {
   "cell_type": "code",
   "execution_count": 9,
   "metadata": {},
   "outputs": [],
   "source": [
    "Item = namedtuple(\"experience_replay_item\", (\"obs\", \"desired_goal\", \"achieved_goal\", \"action\", \n",
    "                                             \"reward\", \"next_obs\", \"next_desired_goal\", \n",
    "                                             \"next_achieved_goal\", \"done\"))"
   ]
  },
  {
   "cell_type": "code",
   "execution_count": 2,
   "metadata": {},
   "outputs": [],
   "source": [
    "class PolicyNetwork(nn.Module):\n",
    "    def __init__(self, observation_shape, goal_shape, action_shape, action_ranges):\n",
    "        self.action_ranges = action_ranges\n",
    "        self.layer_obs = nn.Linear(observation_shape, 256)\n",
    "        self.layer_goal = nn.Linear(goal_shape, 256)\n",
    "        self.layer1 = nn.Linear(512, 256)\n",
    "        self.layer_mu = nn.Linear(256, action_shape)\n",
    "        self.layer_sigma = nn.Linear(256, action_shape)\n",
    "\n",
    "    def forward(self, obs, goal):\n",
    "        obs_ = F.relu(self.layer_obs(obs))\n",
    "        goal_ = F.relu(self.layer_goal(goal))\n",
    "        out = torch.stack([obs_, goal_], dim=-1)\n",
    "        out = F.relu(self.layer1(out))\n",
    "\n",
    "        mu = F.tanh(self.layer_mu(out))\n",
    "        sigma = F.relu(self.layer_sigma(out))\n",
    "\n",
    "        distribution = torch.distributions.Normal(mu, sigma)\n",
    "        action = distribution.sample() + torch.randn_like(mu)*0.1\n",
    "\n",
    "        return torch.clamp(action, self.action_ranges[0], self.action_ranges[1])\n",
    "    \n",
    "    def entropy(self, obs):\n",
    "        pass"
   ]
  },
  {
   "cell_type": "code",
   "execution_count": 3,
   "metadata": {},
   "outputs": [],
   "source": [
    "class ValueNetwork(nn.Module):\n",
    "    def __init__(self, observation_shape, goal_shape):\n",
    "        self.layer1 = nn.Linear(observation_shape, 256)\n",
    "        self.layer2 = nn.Linear(goal_shape, 256)\n",
    "        self.layer3 = nn.Linear(512, 256)\n",
    "        self.layer4 = nn.Linear(256, 1)\n",
    "\n",
    "    def forward(self, obs, goal):\n",
    "        out1 = F.leaky_relu(self.layer1(obs))\n",
    "        out2 = F.leaky_relu(self.layer2(goal))\n",
    "        out = torch.stack([out1, out2], dim=-1)\n",
    "        out = F.leaky_relu(self.layer3(out))\n",
    "        out = F.leaky_relu(self.layer4(out))\n",
    "\n",
    "        return out"
   ]
  },
  {
   "cell_type": "code",
   "execution_count": 4,
   "metadata": {},
   "outputs": [],
   "source": [
    "class QNetwork(nn.Module):\n",
    "    def __init__(self, observation_shape, goal_shape, action_shape):\n",
    "        self.layer_obs = nn.Linear(observation_shape, 256)\n",
    "        self.layer_goal = nn.Linear(goal_shape, 256)\n",
    "        self.layer1 = nn.Linear(512, 256)\n",
    "\n",
    "        self.layer_action = nn.Linear(action_shape, 256)\n",
    "\n",
    "        self.layer2 = nn.Linear(512, 256)\n",
    "        self.layer3 = nn.Linear(256, 1)\n",
    "\n",
    "    def forward(self, observation, goal, action):\n",
    "        obs = F.leaky_relu(self.layer_obs(observation))\n",
    "        goal_ = F.leaky_relu(self.layer_goal(goal))\n",
    "        obs_goal = torch.stack([obs, goal_], dim=-1)\n",
    "\n",
    "        state = F.leaky_relu(self.layer1(obs_goal))\n",
    "\n",
    "        action_ = F.leaky_relu(self.layer_action(action))\n",
    "\n",
    "        state_action = torch.stack([out, action_], dim=-1)\n",
    "        out = F.leaky_relu(self.layer2(state_action))\n",
    "        out = F.leaky_relu(self.layer3(out))\n",
    "\n",
    "        return out\t"
   ]
  },
  {
   "cell_type": "code",
   "execution_count": 5,
   "metadata": {},
   "outputs": [],
   "source": [
    "class ExperienceReplay:\n",
    "    def __init__(self, size):\n",
    "        self.data = []\n",
    "        self.size = size\n",
    "        self._next = 0\n",
    "        \n",
    "    def put(self, item):\n",
    "        if self_next >= len(self.data):\n",
    "            self.data.append(item)\n",
    "        else:\n",
    "            self.data[self._next] = item\n",
    "            \n",
    "        self._next = (self._next + 1) % self.size\n",
    "    \n",
    "    def __len__(self):\n",
    "        return len(self.data)\n",
    "\n",
    "    def sample(self, batch_size):\n",
    "        O, G_d, G_a, A, R, O_1, G_d_1, G_a_1, D = [], [], [], [], [], [], [], [], []\n",
    "        idxs = np.random.choice(0, len(self.data), batch_size)\n",
    "        for i in idxs:\n",
    "            item = self.data[i]\n",
    "            O.append(item.obs)\n",
    "            G_a.append(item.desired_goal)\n",
    "            G_d.append(item.achieved_goal)\n",
    "            A.append(item.action)\n",
    "            R.append(item.reward)\n",
    "            O_1.append(item.next_obs)\n",
    "            G_d_1.append(item.next_desired_goal)\n",
    "            G_a_1.append(item.next_achieved_goal)\n",
    "            D.append(item.done)\n",
    "            \n",
    "        O = torch.stack(O)\n",
    "        G_d = torch.stack(G_d)\n",
    "        G_a = torch.stack(G_a)\n",
    "        A = torch.stack(A)\n",
    "        R = torch.stack(R)\n",
    "        O_1 = torch.stack(O_1)\n",
    "        G_d_1 = torch.stack(G_d_1)\n",
    "        G_a_1 = torch.stack(G_a_1)\n",
    "        D = torch.stack(D)\n",
    "        \n",
    "        return O, G_d, G_a, A, R, O_1, G_d_1, G_a_1, D"
   ]
  },
  {
   "cell_type": "code",
   "execution_count": 7,
   "metadata": {},
   "outputs": [],
   "source": [
    "replay_buf = ExperienceReplay(100000)"
   ]
  },
  {
   "cell_type": "code",
   "execution_count": 6,
   "metadata": {},
   "outputs": [
    {
     "name": "stderr",
     "output_type": "stream",
     "text": [
      "/media/trb/dafenteva/anaconda3/envs/torch/lib/python3.7/site-packages/gym/logger.py:30: UserWarning: \u001b[33mWARN: Box bound precision lowered by casting to float32\u001b[0m\n",
      "  warnings.warn(colorize('%s: %s'%('WARN', msg % args), 'yellow'))\n"
     ]
    }
   ],
   "source": [
    "env = gym.make('LunarLanderContinuous-v2')"
   ]
  },
  {
   "cell_type": "code",
   "execution_count": null,
   "metadata": {},
   "outputs": [],
   "source": [
    "state = env.reset()\n",
    "for step in range(1000):\n",
    "    action = env.action_space.sample()\n",
    "    next_state, reward, done, _ = env.step(action)\n",
    "    replay_buf.put()"
   ]
  }
 ],
 "metadata": {
  "kernelspec": {
   "display_name": "Python 3",
   "language": "python",
   "name": "python3"
  },
  "language_info": {
   "codemirror_mode": {
    "name": "ipython",
    "version": 3
   },
   "file_extension": ".py",
   "mimetype": "text/x-python",
   "name": "python",
   "nbconvert_exporter": "python",
   "pygments_lexer": "ipython3",
   "version": "3.7.6"
  }
 },
 "nbformat": 4,
 "nbformat_minor": 4
}
